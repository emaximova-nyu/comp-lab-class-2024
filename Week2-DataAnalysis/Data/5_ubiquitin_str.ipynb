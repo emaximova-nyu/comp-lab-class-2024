{
 "cells": [
  {
   "cell_type": "code",
   "execution_count": 6,
   "id": "168601a1-d645-4a34-962b-efa147c863c6",
   "metadata": {},
   "outputs": [
    {
     "name": "stdout",
     "output_type": "stream",
     "text": [
      "46\n"
     ]
    }
   ],
   "source": [
    "import mdtraj as md\n",
    "import matplotlib.pyplot as plt\n",
    "import numpy as np\n",
    "\n",
    "t_1ubq = md.load('1UBQ_processed.pdb')\n",
    "\n",
    "h_bonds_number = md.wernet_nilsson(t_1ubq, exclude_water=True)[0].shape[0]\n",
    "h_bonds_number_with_H2O = md.wernet_nilsson(t_1ubq, exclude_water=False)[0].shape[0]\n",
    "\n",
    "print(h_bonds_number)"
   ]
  },
  {
   "cell_type": "code",
   "execution_count": 7,
   "id": "e51aa68c-ae02-4220-b655-e10fcbf3b402",
   "metadata": {},
   "outputs": [
    {
     "name": "stdout",
     "output_type": "stream",
     "text": [
      "18\n"
     ]
    }
   ],
   "source": [
    "helix_number_of_aa = len([i for i in md.compute_dssp(t_1ubq)[0] if i=='H'])\n",
    "print(helix_number_of_aa)"
   ]
  }
 ],
 "metadata": {
  "kernelspec": {
   "display_name": "lab_env_2024",
   "language": "python",
   "name": "lab_env_2024"
  },
  "language_info": {
   "codemirror_mode": {
    "name": "ipython",
    "version": 3
   },
   "file_extension": ".py",
   "mimetype": "text/x-python",
   "name": "python",
   "nbconvert_exporter": "python",
   "pygments_lexer": "ipython3",
   "version": "3.9.12"
  }
 },
 "nbformat": 4,
 "nbformat_minor": 5
}
